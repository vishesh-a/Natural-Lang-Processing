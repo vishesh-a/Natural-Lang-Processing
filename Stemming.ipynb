{
 "cells": [
  {
   "cell_type": "code",
   "execution_count": 1,
   "metadata": {},
   "outputs": [],
   "source": [
    "import nltk\n",
    "from nltk.tokenize import sent_tokenize, word_tokenize\n",
    "from nltk.corpus import stopwords\n",
    "from nltk.stem import PorterStemmer, SnowballStemmer, LancasterStemmer"
   ]
  },
  {
   "cell_type": "code",
   "execution_count": 3,
   "metadata": {},
   "outputs": [],
   "source": [
    "ps=PorterStemmer()\n",
    "ls=LancasterStemmer()\n",
    "ss=SnowballStemmer(\"english\")"
   ]
  },
  {
   "cell_type": "code",
   "execution_count": 15,
   "metadata": {},
   "outputs": [
    {
     "name": "stdout",
     "output_type": "stream",
     "text": [
      "Enter the data: The term originally described computers on ARPANET that were hidden, programmed to receive messages but not respond to or acknowledge anything, thus remaining invisible, in the dark.[citation needed]An account detailed how the first online transaction related to drugs transpired in 1971 when students of the Massachusetts Institute of Technology and Stanford University traded marijuana using ARPANET accounts in the former's Artificial Intelligence Laboratory.[4]  The term has in later usage incorporated services such as the dark web, which is an overlay network that can be accessed only with specific software, configurations, or authorization, often using non-standard communication protocols and ports. Types of dark webs include friend-to-friend networks (usually used for file sharing with a peer-to-peer connection) and privacy networks such as Tor.[5][6] The reciprocal term for an encrypted darknet is clearnet or surface web when referring to content indexable by search engines.[7][8][9][10]  As of 2015, the term \"darknet\" is often used interchangeably with the \"dark web\" due to the quantity of hidden services on Tor's darknet. The term is often inaccurately used interchangeably with the deep web due to Tor's history as a platform that could not be search-indexed. Mixing uses of both these terms has been described as inaccurate, with some commentators recommending the terms be used in distinct fashions.[11][12][13]\n"
     ]
    }
   ],
   "source": [
    "data = input(\"Enter the data: \")"
   ]
  },
  {
   "cell_type": "code",
   "execution_count": 52,
   "metadata": {},
   "outputs": [],
   "source": [
    "data = \" \".join([x for x in data.lower().split(\" \") if x not in set(stopwords.words(\"english\"))])"
   ]
  },
  {
   "cell_type": "code",
   "execution_count": 53,
   "metadata": {},
   "outputs": [],
   "source": [
    "phrases = sent_tokenize(data)"
   ]
  },
  {
   "cell_type": "code",
   "execution_count": 54,
   "metadata": {},
   "outputs": [],
   "source": [
    "word = word_tokenize(data)"
   ]
  },
  {
   "cell_type": "code",
   "execution_count": 55,
   "metadata": {},
   "outputs": [],
   "source": [
    "pwords = []\n",
    "lwords = []\n",
    "swords = []"
   ]
  },
  {
   "cell_type": "code",
   "execution_count": 56,
   "metadata": {},
   "outputs": [],
   "source": [
    "for w in word:\n",
    "    pwords.append(ps.stem(w))\n",
    "    lwords.append(ls.stem(w))\n",
    "    swords.append(ss.stem(w))"
   ]
  },
  {
   "cell_type": "code",
   "execution_count": 57,
   "metadata": {},
   "outputs": [
    {
     "name": "stdout",
     "output_type": "stream",
     "text": [
      "['term', 'origin', 'describ', 'comput', 'arpanet', 'hidden', ',', 'program', 'receiv', 'messag', 'respond', 'acknowledg', 'anyth', ',', 'thu', 'remain', 'invis', ',', 'dark', '.', '[', 'citat', 'need', ']', 'an', 'account', 'detail', 'first', 'onlin', 'transact', 'relat', 'drug', 'transpir', '1971', 'student', 'massachusett', 'institut', 'technolog', 'stanford', 'univers', 'trade', 'marijuana', 'use', 'arpanet', 'account', 'former', \"'s\", 'artifici', 'intellig', 'laboratori', '.', '[', '4', ']', 'term', 'later', 'usag', 'incorpor', 'servic', 'dark', 'web', ',', 'overlay', 'network', 'access', 'specif', 'softwar', ',', 'configur', ',', 'author', ',', 'often', 'use', 'non-standard', 'commun', 'protocol', 'port', '.', 'type', 'dark', 'web', 'includ', 'friend-to-friend', 'network', '(', 'usual', 'use', 'file', 'share', 'peer-to-p', 'connect', ')', 'privaci', 'network', 'tor', '.', '[', '5', ']', '[', '6', ']', 'reciproc', 'term', 'encrypt', 'darknet', 'clearnet', 'surfac', 'web', 'refer', 'content', 'index', 'search', 'engin', '.', '[', '7', ']', '[', '8', ']', '[', '9', ']', '[', '10', ']', '2015', ',', 'term', '``', 'darknet', \"''\", 'often', 'use', 'interchang', '``', 'dark', 'web', \"''\", 'due', 'quantiti', 'hidden', 'servic', 'tor', \"'s\", 'darknet', '.', 'term', 'often', 'inaccur', 'use', 'interchang', 'deep', 'web', 'due', 'tor', \"'s\", 'histori', 'platform', 'could', 'search-index', '.', 'mix', 'use', 'term', 'describ', 'inaccur', ',', 'comment', 'recommend', 'term', 'use', 'distinct', 'fashion', '.', '[', '11', ']', '[', '12', ']', '[', '13', ']']\n"
     ]
    }
   ],
   "source": [
    "print(pwords)"
   ]
  },
  {
   "cell_type": "code",
   "execution_count": 58,
   "metadata": {},
   "outputs": [
    {
     "name": "stdout",
     "output_type": "stream",
     "text": [
      "['term', 'origin', 'describ', 'comput', 'arpanet', 'hid', ',', 'program', 'receiv', 'mess', 'respond', 'acknowledg', 'anyth', ',', 'thu', 'remain', 'invis', ',', 'dark', '.', '[', 'cit', 'nee', ']', 'an', 'account', 'detail', 'first', 'onlin', 'transact', 'rel', 'drug', 'transpir', '1971', 'stud', 'massachuset', 'institut', 'technolog', 'stanford', 'univers', 'trad', 'marijuan', 'us', 'arpanet', 'account', 'form', \"'s\", 'art', 'intellig', 'lab', '.', '[', '4', ']', 'term', 'lat', 'us', 'incorp', 'serv', 'dark', 'web', ',', 'overlay', 'network', 'access', 'spec', 'softw', ',', 'config', ',', 'auth', ',', 'oft', 'us', 'non-standard', 'commun', 'protocol', 'port', '.', 'typ', 'dark', 'web', 'includ', 'friend-to-friend', 'network', '(', 'us', 'us', 'fil', 'shar', 'peer-to-pe', 'connect', ')', 'priv', 'network', 'tor', '.', '[', '5', ']', '[', '6', ']', 'reciproc', 'term', 'encrypt', 'darknet', 'clearnet', 'surfac', 'web', 'refer', 'cont', 'index', 'search', 'engin', '.', '[', '7', ']', '[', '8', ']', '[', '9', ']', '[', '10', ']', '2015', ',', 'term', '``', 'darknet', \"''\", 'oft', 'us', 'interchang', '``', 'dark', 'web', \"''\", 'due', 'quant', 'hid', 'serv', 'tor', \"'s\", 'darknet', '.', 'term', 'oft', 'inacc', 'us', 'interchang', 'deep', 'web', 'due', 'tor', \"'s\", 'hist', 'platform', 'could', 'search-indexed', '.', 'mix', 'us', 'term', 'describ', 'inacc', ',', 'com', 'recommend', 'term', 'us', 'distinct', 'fash', '.', '[', '11', ']', '[', '12', ']', '[', '13', ']']\n"
     ]
    }
   ],
   "source": [
    "print(lwords)"
   ]
  },
  {
   "cell_type": "code",
   "execution_count": 59,
   "metadata": {},
   "outputs": [
    {
     "name": "stdout",
     "output_type": "stream",
     "text": [
      "['term', 'origin', 'describ', 'comput', 'arpanet', 'hidden', ',', 'program', 'receiv', 'messag', 'respond', 'acknowledg', 'anyth', ',', 'thus', 'remain', 'invis', ',', 'dark', '.', '[', 'citat', 'need', ']', 'an', 'account', 'detail', 'first', 'onlin', 'transact', 'relat', 'drug', 'transpir', '1971', 'student', 'massachusett', 'institut', 'technolog', 'stanford', 'univers', 'trade', 'marijuana', 'use', 'arpanet', 'account', 'former', \"'s\", 'artifici', 'intellig', 'laboratori', '.', '[', '4', ']', 'term', 'later', 'usag', 'incorpor', 'servic', 'dark', 'web', ',', 'overlay', 'network', 'access', 'specif', 'softwar', ',', 'configur', ',', 'author', ',', 'often', 'use', 'non-standard', 'communic', 'protocol', 'port', '.', 'type', 'dark', 'web', 'includ', 'friend-to-friend', 'network', '(', 'usual', 'use', 'file', 'share', 'peer-to-p', 'connect', ')', 'privaci', 'network', 'tor', '.', '[', '5', ']', '[', '6', ']', 'reciproc', 'term', 'encrypt', 'darknet', 'clearnet', 'surfac', 'web', 'refer', 'content', 'index', 'search', 'engin', '.', '[', '7', ']', '[', '8', ']', '[', '9', ']', '[', '10', ']', '2015', ',', 'term', '``', 'darknet', \"''\", 'often', 'use', 'interchang', '``', 'dark', 'web', \"''\", 'due', 'quantiti', 'hidden', 'servic', 'tor', \"'s\", 'darknet', '.', 'term', 'often', 'inaccur', 'use', 'interchang', 'deep', 'web', 'due', 'tor', \"'s\", 'histori', 'platform', 'could', 'search-index', '.', 'mix', 'use', 'term', 'describ', 'inaccur', ',', 'comment', 'recommend', 'term', 'use', 'distinct', 'fashion', '.', '[', '11', ']', '[', '12', ']', '[', '13', ']']\n"
     ]
    }
   ],
   "source": [
    "print(swords)"
   ]
  },
  {
   "cell_type": "code",
   "execution_count": 60,
   "metadata": {},
   "outputs": [],
   "source": [
    "sswords = [x for x in swords]"
   ]
  },
  {
   "cell_type": "code",
   "execution_count": 61,
   "metadata": {},
   "outputs": [],
   "source": [
    "spwords = [x for x in pwords]\n",
    "slwords = [x for x in lwords]"
   ]
  },
  {
   "cell_type": "code",
   "execution_count": 62,
   "metadata": {},
   "outputs": [
    {
     "name": "stdout",
     "output_type": "stream",
     "text": [
      "['term', 'origin', 'describ', 'comput', 'arpanet', 'hidden', ',', 'program', 'receiv', 'messag', 'respond', 'acknowledg', 'anyth', ',', 'thu', 'remain', 'invis', ',', 'dark', '.', '[', 'citat', 'need', ']', 'an', 'account', 'detail', 'first', 'onlin', 'transact', 'relat', 'drug', 'transpir', '1971', 'student', 'massachusett', 'institut', 'technolog', 'stanford', 'univers', 'trade', 'marijuana', 'use', 'arpanet', 'account', 'former', \"'s\", 'artifici', 'intellig', 'laboratori', '.', '[', '4', ']', 'term', 'later', 'usag', 'incorpor', 'servic', 'dark', 'web', ',', 'overlay', 'network', 'access', 'specif', 'softwar', ',', 'configur', ',', 'author', ',', 'often', 'use', 'non-standard', 'commun', 'protocol', 'port', '.', 'type', 'dark', 'web', 'includ', 'friend-to-friend', 'network', '(', 'usual', 'use', 'file', 'share', 'peer-to-p', 'connect', ')', 'privaci', 'network', 'tor', '.', '[', '5', ']', '[', '6', ']', 'reciproc', 'term', 'encrypt', 'darknet', 'clearnet', 'surfac', 'web', 'refer', 'content', 'index', 'search', 'engin', '.', '[', '7', ']', '[', '8', ']', '[', '9', ']', '[', '10', ']', '2015', ',', 'term', '``', 'darknet', \"''\", 'often', 'use', 'interchang', '``', 'dark', 'web', \"''\", 'due', 'quantiti', 'hidden', 'servic', 'tor', \"'s\", 'darknet', '.', 'term', 'often', 'inaccur', 'use', 'interchang', 'deep', 'web', 'due', 'tor', \"'s\", 'histori', 'platform', 'could', 'search-index', '.', 'mix', 'use', 'term', 'describ', 'inaccur', ',', 'comment', 'recommend', 'term', 'use', 'distinct', 'fashion', '.', '[', '11', ']', '[', '12', ']', '[', '13', ']']\n",
      "['term', 'origin', 'describ', 'comput', 'arpanet', 'hidden', ',', 'program', 'receiv', 'messag', 'respond', 'acknowledg', 'anyth', ',', 'thus', 'remain', 'invis', ',', 'dark', '.', '[', 'citat', 'need', ']', 'an', 'account', 'detail', 'first', 'onlin', 'transact', 'relat', 'drug', 'transpir', '1971', 'student', 'massachusett', 'institut', 'technolog', 'stanford', 'univers', 'trade', 'marijuana', 'use', 'arpanet', 'account', 'former', \"'s\", 'artifici', 'intellig', 'laboratori', '.', '[', '4', ']', 'term', 'later', 'usag', 'incorpor', 'servic', 'dark', 'web', ',', 'overlay', 'network', 'access', 'specif', 'softwar', ',', 'configur', ',', 'author', ',', 'often', 'use', 'non-standard', 'communic', 'protocol', 'port', '.', 'type', 'dark', 'web', 'includ', 'friend-to-friend', 'network', '(', 'usual', 'use', 'file', 'share', 'peer-to-p', 'connect', ')', 'privaci', 'network', 'tor', '.', '[', '5', ']', '[', '6', ']', 'reciproc', 'term', 'encrypt', 'darknet', 'clearnet', 'surfac', 'web', 'refer', 'content', 'index', 'search', 'engin', '.', '[', '7', ']', '[', '8', ']', '[', '9', ']', '[', '10', ']', '2015', ',', 'term', '``', 'darknet', \"''\", 'often', 'use', 'interchang', '``', 'dark', 'web', \"''\", 'due', 'quantiti', 'hidden', 'servic', 'tor', \"'s\", 'darknet', '.', 'term', 'often', 'inaccur', 'use', 'interchang', 'deep', 'web', 'due', 'tor', \"'s\", 'histori', 'platform', 'could', 'search-index', '.', 'mix', 'use', 'term', 'describ', 'inaccur', ',', 'comment', 'recommend', 'term', 'use', 'distinct', 'fashion', '.', '[', '11', ']', '[', '12', ']', '[', '13', ']']\n",
      "['term', 'origin', 'describ', 'comput', 'arpanet', 'hid', ',', 'program', 'receiv', 'mess', 'respond', 'acknowledg', 'anyth', ',', 'thu', 'remain', 'invis', ',', 'dark', '.', '[', 'cit', 'nee', ']', 'an', 'account', 'detail', 'first', 'onlin', 'transact', 'rel', 'drug', 'transpir', '1971', 'stud', 'massachuset', 'institut', 'technolog', 'stanford', 'univers', 'trad', 'marijuan', 'us', 'arpanet', 'account', 'form', \"'s\", 'art', 'intellig', 'lab', '.', '[', '4', ']', 'term', 'lat', 'us', 'incorp', 'serv', 'dark', 'web', ',', 'overlay', 'network', 'access', 'spec', 'softw', ',', 'config', ',', 'auth', ',', 'oft', 'us', 'non-standard', 'commun', 'protocol', 'port', '.', 'typ', 'dark', 'web', 'includ', 'friend-to-friend', 'network', '(', 'us', 'us', 'fil', 'shar', 'peer-to-pe', 'connect', ')', 'priv', 'network', 'tor', '.', '[', '5', ']', '[', '6', ']', 'reciproc', 'term', 'encrypt', 'darknet', 'clearnet', 'surfac', 'web', 'refer', 'cont', 'index', 'search', 'engin', '.', '[', '7', ']', '[', '8', ']', '[', '9', ']', '[', '10', ']', '2015', ',', 'term', '``', 'darknet', \"''\", 'oft', 'us', 'interchang', '``', 'dark', 'web', \"''\", 'due', 'quant', 'hid', 'serv', 'tor', \"'s\", 'darknet', '.', 'term', 'oft', 'inacc', 'us', 'interchang', 'deep', 'web', 'due', 'tor', \"'s\", 'hist', 'platform', 'could', 'search-indexed', '.', 'mix', 'us', 'term', 'describ', 'inacc', ',', 'com', 'recommend', 'term', 'us', 'distinct', 'fash', '.', '[', '11', ']', '[', '12', ']', '[', '13', ']']\n"
     ]
    }
   ],
   "source": [
    "print (spwords)\n",
    "print (sswords)\n",
    "print (slwords)"
   ]
  },
  {
   "cell_type": "code",
   "execution_count": 65,
   "metadata": {},
   "outputs": [],
   "source": [
    "coned = list(zip(word, spwords, sswords, slwords))"
   ]
  },
  {
   "cell_type": "code",
   "execution_count": 66,
   "metadata": {},
   "outputs": [
    {
     "data": {
      "text/plain": [
       "[('term', 'term', 'term', 'term'),\n",
       " ('originally', 'origin', 'origin', 'origin'),\n",
       " ('described', 'describ', 'describ', 'describ'),\n",
       " ('computers', 'comput', 'comput', 'comput'),\n",
       " ('arpanet', 'arpanet', 'arpanet', 'arpanet'),\n",
       " ('hidden', 'hidden', 'hidden', 'hid'),\n",
       " (',', ',', ',', ','),\n",
       " ('programmed', 'program', 'program', 'program'),\n",
       " ('receive', 'receiv', 'receiv', 'receiv'),\n",
       " ('messages', 'messag', 'messag', 'mess'),\n",
       " ('respond', 'respond', 'respond', 'respond'),\n",
       " ('acknowledge', 'acknowledg', 'acknowledg', 'acknowledg'),\n",
       " ('anything', 'anyth', 'anyth', 'anyth'),\n",
       " (',', ',', ',', ','),\n",
       " ('thus', 'thu', 'thus', 'thu'),\n",
       " ('remaining', 'remain', 'remain', 'remain'),\n",
       " ('invisible', 'invis', 'invis', 'invis'),\n",
       " (',', ',', ',', ','),\n",
       " ('dark', 'dark', 'dark', 'dark'),\n",
       " ('.', '.', '.', '.'),\n",
       " ('[', '[', '[', '['),\n",
       " ('citation', 'citat', 'citat', 'cit'),\n",
       " ('needed', 'need', 'need', 'nee'),\n",
       " (']', ']', ']', ']'),\n",
       " ('an', 'an', 'an', 'an'),\n",
       " ('account', 'account', 'account', 'account'),\n",
       " ('detailed', 'detail', 'detail', 'detail'),\n",
       " ('first', 'first', 'first', 'first'),\n",
       " ('online', 'onlin', 'onlin', 'onlin'),\n",
       " ('transaction', 'transact', 'transact', 'transact'),\n",
       " ('related', 'relat', 'relat', 'rel'),\n",
       " ('drugs', 'drug', 'drug', 'drug'),\n",
       " ('transpired', 'transpir', 'transpir', 'transpir'),\n",
       " ('1971', '1971', '1971', '1971'),\n",
       " ('students', 'student', 'student', 'stud'),\n",
       " ('massachusetts', 'massachusett', 'massachusett', 'massachuset'),\n",
       " ('institute', 'institut', 'institut', 'institut'),\n",
       " ('technology', 'technolog', 'technolog', 'technolog'),\n",
       " ('stanford', 'stanford', 'stanford', 'stanford'),\n",
       " ('university', 'univers', 'univers', 'univers'),\n",
       " ('traded', 'trade', 'trade', 'trad'),\n",
       " ('marijuana', 'marijuana', 'marijuana', 'marijuan'),\n",
       " ('using', 'use', 'use', 'us'),\n",
       " ('arpanet', 'arpanet', 'arpanet', 'arpanet'),\n",
       " ('accounts', 'account', 'account', 'account'),\n",
       " ('former', 'former', 'former', 'form'),\n",
       " (\"'s\", \"'s\", \"'s\", \"'s\"),\n",
       " ('artificial', 'artifici', 'artifici', 'art'),\n",
       " ('intelligence', 'intellig', 'intellig', 'intellig'),\n",
       " ('laboratory', 'laboratori', 'laboratori', 'lab'),\n",
       " ('.', '.', '.', '.'),\n",
       " ('[', '[', '[', '['),\n",
       " ('4', '4', '4', '4'),\n",
       " (']', ']', ']', ']'),\n",
       " ('term', 'term', 'term', 'term'),\n",
       " ('later', 'later', 'later', 'lat'),\n",
       " ('usage', 'usag', 'usag', 'us'),\n",
       " ('incorporated', 'incorpor', 'incorpor', 'incorp'),\n",
       " ('services', 'servic', 'servic', 'serv'),\n",
       " ('dark', 'dark', 'dark', 'dark'),\n",
       " ('web', 'web', 'web', 'web'),\n",
       " (',', ',', ',', ','),\n",
       " ('overlay', 'overlay', 'overlay', 'overlay'),\n",
       " ('network', 'network', 'network', 'network'),\n",
       " ('accessed', 'access', 'access', 'access'),\n",
       " ('specific', 'specif', 'specif', 'spec'),\n",
       " ('software', 'softwar', 'softwar', 'softw'),\n",
       " (',', ',', ',', ','),\n",
       " ('configurations', 'configur', 'configur', 'config'),\n",
       " (',', ',', ',', ','),\n",
       " ('authorization', 'author', 'author', 'auth'),\n",
       " (',', ',', ',', ','),\n",
       " ('often', 'often', 'often', 'oft'),\n",
       " ('using', 'use', 'use', 'us'),\n",
       " ('non-standard', 'non-standard', 'non-standard', 'non-standard'),\n",
       " ('communication', 'commun', 'communic', 'commun'),\n",
       " ('protocols', 'protocol', 'protocol', 'protocol'),\n",
       " ('ports', 'port', 'port', 'port'),\n",
       " ('.', '.', '.', '.'),\n",
       " ('types', 'type', 'type', 'typ'),\n",
       " ('dark', 'dark', 'dark', 'dark'),\n",
       " ('webs', 'web', 'web', 'web'),\n",
       " ('include', 'includ', 'includ', 'includ'),\n",
       " ('friend-to-friend',\n",
       "  'friend-to-friend',\n",
       "  'friend-to-friend',\n",
       "  'friend-to-friend'),\n",
       " ('networks', 'network', 'network', 'network'),\n",
       " ('(', '(', '(', '('),\n",
       " ('usually', 'usual', 'usual', 'us'),\n",
       " ('used', 'use', 'use', 'us'),\n",
       " ('file', 'file', 'file', 'fil'),\n",
       " ('sharing', 'share', 'share', 'shar'),\n",
       " ('peer-to-peer', 'peer-to-p', 'peer-to-p', 'peer-to-pe'),\n",
       " ('connection', 'connect', 'connect', 'connect'),\n",
       " (')', ')', ')', ')'),\n",
       " ('privacy', 'privaci', 'privaci', 'priv'),\n",
       " ('networks', 'network', 'network', 'network'),\n",
       " ('tor', 'tor', 'tor', 'tor'),\n",
       " ('.', '.', '.', '.'),\n",
       " ('[', '[', '[', '['),\n",
       " ('5', '5', '5', '5'),\n",
       " (']', ']', ']', ']'),\n",
       " ('[', '[', '[', '['),\n",
       " ('6', '6', '6', '6'),\n",
       " (']', ']', ']', ']'),\n",
       " ('reciprocal', 'reciproc', 'reciproc', 'reciproc'),\n",
       " ('term', 'term', 'term', 'term'),\n",
       " ('encrypted', 'encrypt', 'encrypt', 'encrypt'),\n",
       " ('darknet', 'darknet', 'darknet', 'darknet'),\n",
       " ('clearnet', 'clearnet', 'clearnet', 'clearnet'),\n",
       " ('surface', 'surfac', 'surfac', 'surfac'),\n",
       " ('web', 'web', 'web', 'web'),\n",
       " ('referring', 'refer', 'refer', 'refer'),\n",
       " ('content', 'content', 'content', 'cont'),\n",
       " ('indexable', 'index', 'index', 'index'),\n",
       " ('search', 'search', 'search', 'search'),\n",
       " ('engines', 'engin', 'engin', 'engin'),\n",
       " ('.', '.', '.', '.'),\n",
       " ('[', '[', '[', '['),\n",
       " ('7', '7', '7', '7'),\n",
       " (']', ']', ']', ']'),\n",
       " ('[', '[', '[', '['),\n",
       " ('8', '8', '8', '8'),\n",
       " (']', ']', ']', ']'),\n",
       " ('[', '[', '[', '['),\n",
       " ('9', '9', '9', '9'),\n",
       " (']', ']', ']', ']'),\n",
       " ('[', '[', '[', '['),\n",
       " ('10', '10', '10', '10'),\n",
       " (']', ']', ']', ']'),\n",
       " ('2015', '2015', '2015', '2015'),\n",
       " (',', ',', ',', ','),\n",
       " ('term', 'term', 'term', 'term'),\n",
       " ('``', '``', '``', '``'),\n",
       " ('darknet', 'darknet', 'darknet', 'darknet'),\n",
       " (\"''\", \"''\", \"''\", \"''\"),\n",
       " ('often', 'often', 'often', 'oft'),\n",
       " ('used', 'use', 'use', 'us'),\n",
       " ('interchangeably', 'interchang', 'interchang', 'interchang'),\n",
       " ('``', '``', '``', '``'),\n",
       " ('dark', 'dark', 'dark', 'dark'),\n",
       " ('web', 'web', 'web', 'web'),\n",
       " (\"''\", \"''\", \"''\", \"''\"),\n",
       " ('due', 'due', 'due', 'due'),\n",
       " ('quantity', 'quantiti', 'quantiti', 'quant'),\n",
       " ('hidden', 'hidden', 'hidden', 'hid'),\n",
       " ('services', 'servic', 'servic', 'serv'),\n",
       " ('tor', 'tor', 'tor', 'tor'),\n",
       " (\"'s\", \"'s\", \"'s\", \"'s\"),\n",
       " ('darknet', 'darknet', 'darknet', 'darknet'),\n",
       " ('.', '.', '.', '.'),\n",
       " ('term', 'term', 'term', 'term'),\n",
       " ('often', 'often', 'often', 'oft'),\n",
       " ('inaccurately', 'inaccur', 'inaccur', 'inacc'),\n",
       " ('used', 'use', 'use', 'us'),\n",
       " ('interchangeably', 'interchang', 'interchang', 'interchang'),\n",
       " ('deep', 'deep', 'deep', 'deep'),\n",
       " ('web', 'web', 'web', 'web'),\n",
       " ('due', 'due', 'due', 'due'),\n",
       " ('tor', 'tor', 'tor', 'tor'),\n",
       " (\"'s\", \"'s\", \"'s\", \"'s\"),\n",
       " ('history', 'histori', 'histori', 'hist'),\n",
       " ('platform', 'platform', 'platform', 'platform'),\n",
       " ('could', 'could', 'could', 'could'),\n",
       " ('search-indexed', 'search-index', 'search-index', 'search-indexed'),\n",
       " ('.', '.', '.', '.'),\n",
       " ('mixing', 'mix', 'mix', 'mix'),\n",
       " ('uses', 'use', 'use', 'us'),\n",
       " ('terms', 'term', 'term', 'term'),\n",
       " ('described', 'describ', 'describ', 'describ'),\n",
       " ('inaccurate', 'inaccur', 'inaccur', 'inacc'),\n",
       " (',', ',', ',', ','),\n",
       " ('commentators', 'comment', 'comment', 'com'),\n",
       " ('recommending', 'recommend', 'recommend', 'recommend'),\n",
       " ('terms', 'term', 'term', 'term'),\n",
       " ('used', 'use', 'use', 'us'),\n",
       " ('distinct', 'distinct', 'distinct', 'distinct'),\n",
       " ('fashions', 'fashion', 'fashion', 'fash'),\n",
       " ('.', '.', '.', '.'),\n",
       " ('[', '[', '[', '['),\n",
       " ('11', '11', '11', '11'),\n",
       " (']', ']', ']', ']'),\n",
       " ('[', '[', '[', '['),\n",
       " ('12', '12', '12', '12'),\n",
       " (']', ']', ']', ']'),\n",
       " ('[', '[', '[', '['),\n",
       " ('13', '13', '13', '13'),\n",
       " (']', ']', ']', ']')]"
      ]
     },
     "execution_count": 66,
     "metadata": {},
     "output_type": "execute_result"
    }
   ],
   "source": [
    "coned"
   ]
  },
  {
   "cell_type": "code",
   "execution_count": null,
   "metadata": {},
   "outputs": [],
   "source": []
  },
  {
   "cell_type": "code",
   "execution_count": null,
   "metadata": {},
   "outputs": [],
   "source": []
  },
  {
   "cell_type": "code",
   "execution_count": null,
   "metadata": {},
   "outputs": [],
   "source": []
  }
 ],
 "metadata": {
  "kernelspec": {
   "display_name": "Python 3",
   "language": "python",
   "name": "python3"
  },
  "language_info": {
   "codemirror_mode": {
    "name": "ipython",
    "version": 3
   },
   "file_extension": ".py",
   "mimetype": "text/x-python",
   "name": "python",
   "nbconvert_exporter": "python",
   "pygments_lexer": "ipython3",
   "version": "3.6.3"
  }
 },
 "nbformat": 4,
 "nbformat_minor": 2
}
